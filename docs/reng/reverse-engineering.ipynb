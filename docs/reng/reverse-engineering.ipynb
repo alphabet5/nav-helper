{
 "cells": [
  {
   "cell_type": "markdown",
   "id": "6195a0b3-8613-43d5-8f31-c3f0394c858e",
   "metadata": {},
   "source": [
    "# nav-helper\n",
    " Simple iphone app for navigation assistance.\n",
    "\n",
    "This documentation is generated from docs/reng/reverse-engineering.ipynb using nbconvert.\n",
    "\n",
    "```bash\n",
    "python3.9 -m jupyter nbconvert --to markdown ./docs/reng/reverse-engineering.ipynb --output ../../README.md\n",
    "```\n",
    "\n",
    "## Purpose\n",
    "\n",
    "This app started out of frustration in identifying remote locations in the wilderness. The Sig Sauer Kilo5K has bluetooth connectivity for sending information on angle and distance of ranged targets. The purpose of this app is to provide missing features that are helpful when navigating in the wilderness.\n",
    "\n",
    "Personal goals include:\n",
    "- Understanding bluetooth communication.\n",
    "- Improve my reverse engineering ability for packet data.\n",
    "- Understand mobile app development ecosystem.\n",
    "- Documenting my learning process.\n",
    "- Document an undocumented proprietary protocol.\n",
    "\n",
    "Intended Features:\n",
    "- Provide the GPS coordinates of a ranged point allowing a more accurate compass to enter the bearing of the ranged point.\n",
    "- Optionally use the internal compass to set the bearing using the edge of the device.\n",
    "- Convert between magnetic and true north using NCEI data.\n",
    "- Improve accuracy of the ranged point by utilizing the angle and localized high-definition elevation data. (when available)\n",
    "- Ability to log ranged points in the background, along with current GPS coordinates.\n",
    "- GPS current position averaging to get a more accurate location.\n",
    "- Ability to easily convert GPS coordinates between formats.\n",
    "- Operate when offline."
   ]
  },
  {
   "cell_type": "markdown",
   "id": "9345e06f-dabc-4a42-aa8d-a0bf2ad976ba",
   "metadata": {},
   "source": [
    "## Progress\n",
    "\n",
    "This section is notes on steps I am taking and information that I collect.\n",
    "\n",
    "- [Capture bluetooth packets.](https://www.bluetooth.com/blog/a-new-way-to-debug-iosbluetooth-applications/)\n",
    "    - Separate packet captures have been made, one for [pairing](docs/captures/kilo5k-pairing.json) and one for [ranging](docs/captures/kilo5k-range-11.2y-5deg.json). I expect further captures will be necessary to identify how the data is structured for the ranging information.\n",
    "- Packets were saved from PacketLogger to be viewed in Wiresshark.\n",
    "\n",
    "### Bluetooth Packets\n",
    "RF = Range Finder\n",
    "P = Phone\n",
    "\n",
    "Ranging 11.2y 5 deg\n",
    "1. RF->P MTU Request (Rx MTU: 244)\n",
    "2. P->RF MTU Response (Rx MTU: 244)\n",
    "3. P->RF L2CAP (???)\n",
    "4. P->RF Read By Type GATT Characteristic Declaration\n",
    "5. RF->P Rcvd Error Response Attribute not found (This is consistant for every range)\n",
    "6. P->RF Write Request Handle: 0x0010 Value: 0100\n"
   ]
  },
  {
   "cell_type": "code",
   "execution_count": null,
   "id": "9ca3b0cc-6a7e-4efb-953e-55132c921481",
   "metadata": {},
   "outputs": [],
   "source": [
    "## Reverse engineering the bluetooth communication for the Kilo5K"
   ]
  },
  {
   "cell_type": "code",
   "execution_count": 38,
   "id": "36cca3f9-0f8b-4452-902b-6c2a99e3bf43",
   "metadata": {},
   "outputs": [],
   "source": [
    "import json\n",
    "from rich import traceback\n",
    "from rich import print\n",
    "\n",
    "traceback.install()\n",
    "\n",
    "packets = json.load(open('../captures/kilo5k-range-11.2y-5deg.json', 'r'))\n",
    "\n",
    "\n",
    "def parse(input_hex):\n",
    "    input_list = bytes.fromhex(input_hex).decode('ASCII').split(',')\n",
    "    desc = {\n",
    "            0: 'Unknown0',\n",
    "            1: 'Unknown1',\n",
    "            2: 'Unknown2',\n",
    "            3: 'Unknown3',\n",
    "            4: 'Unknown4',\n",
    "            5: 'Range(y)5',\n",
    "            6: 'Unknown6',\n",
    "            7: 'Unknown7',\n",
    "            8: 'Bearing?8',\n",
    "            9: 'Unknown9',\n",
    "            10: 'Unknown10',\n",
    "            11: 'Angle(up or down?)',\n",
    "            12: 'End?'\n",
    "           }\n",
    "    vals = dict()\n",
    "    print(len(input_list))\n",
    "    for i in range(len(input_list)):\n",
    "        vals[desc[i]] = input_list[i]\n",
    "    return vals\n"
   ]
  },
  {
   "cell_type": "code",
   "execution_count": 39,
   "id": "4f820ae1-656e-4646-98a9-89055fce725c",
   "metadata": {},
   "outputs": [
    {
     "data": {
      "text/html": [
       "<pre style=\"white-space:pre;overflow-x:auto;line-height:normal;font-family:Menlo,'DejaVu Sans Mono',consolas,'Courier New',monospace\"><span style=\"color: #008080; text-decoration-color: #008080; font-weight: bold\">13</span>\n",
       "</pre>\n"
      ],
      "text/plain": [
       "\u001b[1;36m13\u001b[0m\n"
      ]
     },
     "metadata": {},
     "output_type": "display_data"
    },
    {
     "data": {
      "text/html": [
       "<pre style=\"white-space:pre;overflow-x:auto;line-height:normal;font-family:Menlo,'DejaVu Sans Mono',consolas,'Courier New',monospace\"><span style=\"font-weight: bold\">{</span>\n",
       "    <span style=\"color: #008000; text-decoration-color: #008000\">'Unknown0'</span>: <span style=\"color: #008000; text-decoration-color: #008000\">':AB'</span>,\n",
       "    <span style=\"color: #008000; text-decoration-color: #008000\">'Unknown1'</span>: <span style=\"color: #008000; text-decoration-color: #008000\">'2'</span>,\n",
       "    <span style=\"color: #008000; text-decoration-color: #008000\">'Unknown2'</span>: <span style=\"color: #008000; text-decoration-color: #008000\">'0.000'</span>,\n",
       "    <span style=\"color: #008000; text-decoration-color: #008000\">'Unknown3'</span>: <span style=\"color: #008000; text-decoration-color: #008000\">'0.000'</span>,\n",
       "    <span style=\"color: #008000; text-decoration-color: #008000\">'Unknown4'</span>: <span style=\"color: #008000; text-decoration-color: #008000\">'0.000'</span>,\n",
       "    <span style=\"color: #008000; text-decoration-color: #008000\">'Range(y)5'</span>: <span style=\"color: #008000; text-decoration-color: #008000\">'11.200'</span>,\n",
       "    <span style=\"color: #008000; text-decoration-color: #008000\">'Unknown6'</span>: <span style=\"color: #008000; text-decoration-color: #008000\">'0.000'</span>,\n",
       "    <span style=\"color: #008000; text-decoration-color: #008000\">'Unknown7'</span>: <span style=\"color: #008000; text-decoration-color: #008000\">'0.000'</span>,\n",
       "    <span style=\"color: #008000; text-decoration-color: #008000\">'Bearing?8'</span>: <span style=\"color: #008000; text-decoration-color: #008000\">'270.000'</span>,\n",
       "    <span style=\"color: #008000; text-decoration-color: #008000\">'Unknown9'</span>: <span style=\"color: #008000; text-decoration-color: #008000\">'0.000'</span>,\n",
       "    <span style=\"color: #008000; text-decoration-color: #008000\">'Unknown10'</span>: <span style=\"color: #008000; text-decoration-color: #008000\">'0.000'</span>,\n",
       "    <span style=\"color: #008000; text-decoration-color: #008000\">'Angle(up or down?)'</span>: <span style=\"color: #008000; text-decoration-color: #008000\">'4.564'</span>,\n",
       "    <span style=\"color: #008000; text-decoration-color: #008000\">'End?'</span>: <span style=\"color: #008000; text-decoration-color: #008000\">'B5\\r'</span>\n",
       "<span style=\"font-weight: bold\">}</span>\n",
       "</pre>\n"
      ],
      "text/plain": [
       "\u001b[1m{\u001b[0m\n",
       "    \u001b[32m'Unknown0'\u001b[0m: \u001b[32m':AB'\u001b[0m,\n",
       "    \u001b[32m'Unknown1'\u001b[0m: \u001b[32m'2'\u001b[0m,\n",
       "    \u001b[32m'Unknown2'\u001b[0m: \u001b[32m'0.000'\u001b[0m,\n",
       "    \u001b[32m'Unknown3'\u001b[0m: \u001b[32m'0.000'\u001b[0m,\n",
       "    \u001b[32m'Unknown4'\u001b[0m: \u001b[32m'0.000'\u001b[0m,\n",
       "    \u001b[32m'Range\u001b[0m\u001b[32m(\u001b[0m\u001b[32my\u001b[0m\u001b[32m)\u001b[0m\u001b[32m5'\u001b[0m: \u001b[32m'11.200'\u001b[0m,\n",
       "    \u001b[32m'Unknown6'\u001b[0m: \u001b[32m'0.000'\u001b[0m,\n",
       "    \u001b[32m'Unknown7'\u001b[0m: \u001b[32m'0.000'\u001b[0m,\n",
       "    \u001b[32m'Bearing?8'\u001b[0m: \u001b[32m'270.000'\u001b[0m,\n",
       "    \u001b[32m'Unknown9'\u001b[0m: \u001b[32m'0.000'\u001b[0m,\n",
       "    \u001b[32m'Unknown10'\u001b[0m: \u001b[32m'0.000'\u001b[0m,\n",
       "    \u001b[32m'Angle\u001b[0m\u001b[32m(\u001b[0m\u001b[32mup or down?\u001b[0m\u001b[32m)\u001b[0m\u001b[32m'\u001b[0m: \u001b[32m'4.564'\u001b[0m,\n",
       "    \u001b[32m'End?'\u001b[0m: \u001b[32m'B5\\r'\u001b[0m\n",
       "\u001b[1m}\u001b[0m\n"
      ]
     },
     "metadata": {},
     "output_type": "display_data"
    }
   ],
   "source": [
    "data = parse(packets[-2]['_source']['layers']['btatt']['btatt.value'].replace(':',''))\n",
    "print(data)"
   ]
  },
  {
   "cell_type": "code",
   "execution_count": 35,
   "id": "73eedc94-81dc-48ca-a6aa-d7a41389e9e6",
   "metadata": {},
   "outputs": [
    {
     "data": {
      "text/html": [
       "<pre style=\"white-space:pre;overflow-x:auto;line-height:normal;font-family:Menlo,'DejaVu Sans Mono',consolas,'Courier New',monospace\"><span style=\"font-weight: bold\">[</span>\n",
       "    <span style=\"color: #008000; text-decoration-color: #008000\">':AB'</span>,\n",
       "    <span style=\"color: #008000; text-decoration-color: #008000\">'2'</span>,\n",
       "    <span style=\"color: #008000; text-decoration-color: #008000\">'0.000'</span>,\n",
       "    <span style=\"color: #008000; text-decoration-color: #008000\">'0.000'</span>,\n",
       "    <span style=\"color: #008000; text-decoration-color: #008000\">'0.000'</span>,\n",
       "    <span style=\"color: #008000; text-decoration-color: #008000\">'11.200'</span>,\n",
       "    <span style=\"color: #008000; text-decoration-color: #008000\">'0.000'</span>,\n",
       "    <span style=\"color: #008000; text-decoration-color: #008000\">'0.000'</span>,\n",
       "    <span style=\"color: #008000; text-decoration-color: #008000\">'270.000'</span>,\n",
       "    <span style=\"color: #008000; text-decoration-color: #008000\">'0.000'</span>,\n",
       "    <span style=\"color: #008000; text-decoration-color: #008000\">'0.000'</span>,\n",
       "    <span style=\"color: #008000; text-decoration-color: #008000\">'4.564'</span>,\n",
       "    <span style=\"color: #008000; text-decoration-color: #008000\">'B5\\r'</span>\n",
       "<span style=\"font-weight: bold\">]</span>\n",
       "</pre>\n"
      ],
      "text/plain": [
       "\u001b[1m[\u001b[0m\n",
       "    \u001b[32m':AB'\u001b[0m,\n",
       "    \u001b[32m'2'\u001b[0m,\n",
       "    \u001b[32m'0.000'\u001b[0m,\n",
       "    \u001b[32m'0.000'\u001b[0m,\n",
       "    \u001b[32m'0.000'\u001b[0m,\n",
       "    \u001b[32m'11.200'\u001b[0m,\n",
       "    \u001b[32m'0.000'\u001b[0m,\n",
       "    \u001b[32m'0.000'\u001b[0m,\n",
       "    \u001b[32m'270.000'\u001b[0m,\n",
       "    \u001b[32m'0.000'\u001b[0m,\n",
       "    \u001b[32m'0.000'\u001b[0m,\n",
       "    \u001b[32m'4.564'\u001b[0m,\n",
       "    \u001b[32m'B5\\r'\u001b[0m\n",
       "\u001b[1m]\u001b[0m\n"
      ]
     },
     "metadata": {},
     "output_type": "display_data"
    }
   ],
   "source": [
    "print(bytes.fromhex(packets[-2]['_source']['layers']['btatt']['btatt.value'].replace(':','')).decode('ASCII').split(','))"
   ]
  }
 ],
 "metadata": {
  "kernelspec": {
   "display_name": "Python 3",
   "language": "python",
   "name": "python3"
  },
  "language_info": {
   "codemirror_mode": {
    "name": "ipython",
    "version": 3
   },
   "file_extension": ".py",
   "mimetype": "text/x-python",
   "name": "python",
   "nbconvert_exporter": "python",
   "pygments_lexer": "ipython3",
   "version": "3.9.8"
  }
 },
 "nbformat": 4,
 "nbformat_minor": 5
}
